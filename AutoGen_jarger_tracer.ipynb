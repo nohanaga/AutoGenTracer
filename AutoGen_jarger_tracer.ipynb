{
 "cells": [
  {
   "cell_type": "markdown",
   "id": "72e32e00",
   "metadata": {},
   "source": [
    "# AutoGen のトレースを Jaeger で永続化\n",
    "\n",
    "AutoGenには、アプリケーションの実行に関する包括的な記録を収集するためのトレースと観測のサポートが組み込まれています。この機能は、デバッグ、パフォーマンス分析、そしてアプリケーションのフローを理解するのに役立ちます。\n",
    "\n",
    "この機能はOpenTelemetryライブラリを活用しているため、OpenTelemetry と互換性のある任意のバックエンドを使用してトレースを収集および分析できます。"
   ]
  },
  {
   "cell_type": "markdown",
   "id": "6fcd2837",
   "metadata": {},
   "source": [
    "## 設定\n",
    "まず、OpenTelemetry Pythonパッケージをインストールする必要があります。pipを使ってインストールできます。\n"
   ]
  },
  {
   "cell_type": "code",
   "execution_count": null,
   "id": "60644230",
   "metadata": {},
   "outputs": [],
   "source": [
    "!pip install opentelemetry-sdk opentelemetry-exporter-otlp-proto-grpc"
   ]
  },
  {
   "cell_type": "markdown",
   "id": "862fad97",
   "metadata": {},
   "source": [
    "## AutoGen でトレースを設定\n",
    "\n",
    "1. OpenTelemetry トレーサープロバイダーを構成する\n",
    "1. バックエンドにトレースを送信するためのエクスポーターを設定する\n",
    "1. トレーサープロバイダを AutoGen ランタイムに接続する"
   ]
  },
  {
   "cell_type": "code",
   "execution_count": null,
   "id": "745e01dc",
   "metadata": {},
   "outputs": [],
   "source": [
    "from opentelemetry import trace\n",
    "from opentelemetry.sdk.resources import Resource\n",
    "from opentelemetry.sdk.trace import TracerProvider\n",
    "from opentelemetry.sdk.trace.export import BatchSpanProcessor\n",
    "from opentelemetry.exporter.otlp.proto.grpc.trace_exporter import OTLPSpanExporter\n",
    "from opentelemetry.instrumentation.openai import OpenAIInstrumentor\n",
    "\n",
    "service_name = \"autogen\"\n",
    "\n",
    "# OTLPエクスポーターの設定 (gRPC経由で送信)\n",
    "otlp_exporter = OTLPSpanExporter(\n",
    "    endpoint=\"http://localhost:4317\",  # JaegerのgRPCエンドポイント\n",
    ")\n",
    "tracer_provider = TracerProvider(resource=Resource({\"service.name\": service_name}))\n",
    "    \n",
    "# トレーサープロバイダーの設定\n",
    "trace.set_tracer_provider(tracer_provider)\n",
    "\n",
    "# バッチスパンプロセッサーを設定\n",
    "span_processor = BatchSpanProcessor(otlp_exporter)\n",
    "tracer_provider.add_span_processor(span_processor)\n",
    "\n",
    "# トレーサーを取得\n",
    "tracer = tracer_provider.get_tracer(service_name)\n",
    "\n",
    "OpenAIInstrumentor().instrument()\n"
   ]
  },
  {
   "cell_type": "markdown",
   "id": "25e231a2",
   "metadata": {},
   "source": [
    "## シンプルなトレース"
   ]
  },
  {
   "cell_type": "code",
   "execution_count": null,
   "id": "b168acef",
   "metadata": {},
   "outputs": [],
   "source": [
    "from autogen_ext.models.openai import OpenAIChatCompletionClient, AzureOpenAIChatCompletionClient\n",
    "import os\n",
    "\n",
    "model_client = AzureOpenAIChatCompletionClient(\n",
    "    azure_deployment=\"gpt-4.1-mini\",\n",
    "    model=\"gpt-4.1-mini\",\n",
    "    api_key=os.getenv(\"AZURE_OPENAI_API_KEY\"),\n",
    "    api_version=\"2024-12-01-preview\",\n",
    "    azure_endpoint=os.getenv(\"AZURE_OPENAI_ENDPOINT\"),\n",
    ")"
   ]
  },
  {
   "cell_type": "code",
   "execution_count": null,
   "id": "38458094",
   "metadata": {},
   "outputs": [],
   "source": [
    "from autogen_agentchat.ui import Console\n",
    "from autogen_agentchat.agents import AssistantAgent\n",
    "from autogen_agentchat.teams import RoundRobinGroupChat\n",
    "from autogen_agentchat.conditions import TextMessageTermination  \n",
    "\n",
    "# Create the final reviewer agent\n",
    "writer_agent = AssistantAgent(\n",
    "    \"writer_agent\",\n",
    "    model_client=model_client,\n",
    "    system_message=\"あなたはプロの小説家です。魅力的な文章を完結なタッチで書くことができます。\",\n",
    ")"
   ]
  },
  {
   "cell_type": "code",
   "execution_count": null,
   "id": "9d6a1a9b",
   "metadata": {},
   "outputs": [],
   "source": [
    "stream = writer_agent.run_stream(task=\"SEが異世界に転生して無双する異世界転生系短編小説を書いてください。\")\n",
    "await Console(stream)"
   ]
  },
  {
   "cell_type": "markdown",
   "id": "c8068611",
   "metadata": {},
   "source": [
    "## 独自のスパンを作成\n",
    "複雑なアプリケーションを開発するときに、ビジネス ロジックとモデルを組み合わせたコードのセクションをキャプチャすると便利な場合があります。 OpenTelemetry では、スパンの概念を使用して、関心のあるセクションをキャプチャします。 独自のスパンの生成を開始するには、現在の トレーサー オブジェクトのインスタンスを取得します。"
   ]
  },
  {
   "cell_type": "code",
   "execution_count": null,
   "id": "b9633362",
   "metadata": {},
   "outputs": [],
   "source": [
    "from typing import List\n",
    "\n",
    "@tracer.start_as_current_span(\"write_and_critic_short_story\")\n",
    "async def write_and_critic_short_story():\n",
    "    current_span = trace.get_current_span()\n",
    "    # Set attributes for the current span\n",
    "    current_span.set_attribute(\"operation.critic_count\", 3)\n",
    "\n",
    "\n",
    "    # Create the final reviewer agent\n",
    "    writer_agent = AssistantAgent(\n",
    "        \"writer_agent\",\n",
    "        model_client=model_client,\n",
    "        system_message=\"あなたはプロの小説家です。魅力的な文章を完結なタッチで書くことができます。\",\n",
    "    )\n",
    "\n",
    "\n",
    "    # Create the final reviewer agent\n",
    "    critic_agent1 = AssistantAgent(\n",
    "        \"critic_agent1\",\n",
    "        model_client=model_client,\n",
    "        system_message=\"作成された文章を批判的な観点から評価し、改善点を提案すること。\",\n",
    "    )\n",
    "\n",
    "    # Create the final reviewer agent\n",
    "    critic_agent2 = AssistantAgent(\n",
    "        \"critic_agent2\",\n",
    "        model_client=model_client,\n",
    "        system_message=\"あなたはリスクアドバイザーです。作成された文章のアイデア被りやSMS等で炎上しないかどうかを評価し、改善点を提案すること。\",\n",
    "    )\n",
    "\n",
    "    # Create the final reviewer agent\n",
    "    critic_agent3 = AssistantAgent(\n",
    "        \"critic_agent3\",\n",
    "        model_client=model_client,\n",
    "        system_message=\"あなたは法学のスペシャリストです。作成された文章を法的観点から評価し、改善点を提案すること。\",\n",
    "    )\n",
    "\n",
    "    # add agents to array\n",
    "    critic_agents: List[AssistantAgent] = [\n",
    "        writer_agent,\n",
    "        critic_agent1,\n",
    "        critic_agent2,\n",
    "        critic_agent3,\n",
    "    ]\n",
    "\n",
    "    termination_condition = TextMessageTermination(\"critic_agent3\") #3人目が発言したら終了\n",
    "    critic_team = RoundRobinGroupChat(critic_agents, termination_condition=termination_condition)\n",
    "            \n",
    "    stream = critic_team.run_stream(task=\"SEが異世界に転生して無双する異世界転生系短編小説を書いてください。\")\n",
    "    await Console(stream)\n",
    "\n",
    "    return"
   ]
  },
  {
   "cell_type": "code",
   "execution_count": null,
   "id": "f33b750b",
   "metadata": {},
   "outputs": [],
   "source": [
    "await write_and_critic_short_story()"
   ]
  }
 ],
 "metadata": {
  "kernelspec": {
   "display_name": "autogen059",
   "language": "python",
   "name": "python3"
  },
  "language_info": {
   "codemirror_mode": {
    "name": "ipython",
    "version": 3
   },
   "file_extension": ".py",
   "mimetype": "text/x-python",
   "name": "python",
   "nbconvert_exporter": "python",
   "pygments_lexer": "ipython3",
   "version": "3.11.11"
  }
 },
 "nbformat": 4,
 "nbformat_minor": 5
}
