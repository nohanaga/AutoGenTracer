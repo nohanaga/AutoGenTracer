{
 "cells": [
  {
   "cell_type": "markdown",
   "id": "72e32e00",
   "metadata": {},
   "source": [
    "# AutoGen のトレースを Azure AI Foundry で永続化"
   ]
  },
  {
   "cell_type": "markdown",
   "id": "6fcd2837",
   "metadata": {},
   "source": [
    "## 1. OpenAI SDK をインストルメント化する\n",
    "まずシンプルに OpenAI SDK を使用して開発する場合は、コードをインストルメント化して、トレースが Azure AI Foundry に送信されるようにすることができます。 \n",
    "\n",
    "環境に `azure-ai-projects`、 `azure-monitor-opentelemetry`、および `opentelemetry-instrumentation-openai-v2` をインストールします。 pip の使用例を次に示します。\n"
   ]
  },
  {
   "cell_type": "code",
   "execution_count": null,
   "id": "60644230",
   "metadata": {},
   "outputs": [],
   "source": [
    "!pip install azure-ai-projects azure-monitor-opentelemetry opentelemetry-instrumentation-openai"
   ]
  },
  {
   "cell_type": "markdown",
   "id": "862fad97",
   "metadata": {},
   "source": [
    "## OpenAIInstrumentor()を使用して OpenAI SDK をインストルメント化"
   ]
  },
  {
   "cell_type": "code",
   "execution_count": null,
   "id": "745e01dc",
   "metadata": {},
   "outputs": [],
   "source": [
    "from openai import AzureOpenAI\n",
    "\n",
    "from opentelemetry.instrumentation.openai import OpenAIInstrumentor\n",
    "\n",
    "OpenAIInstrumentor().instrument()\n"
   ]
  },
  {
   "cell_type": "markdown",
   "id": "9c30443a",
   "metadata": {},
   "source": [
    "## プロジェクトでトレースを有効にする\n",
    "\n",
    "https://learn.microsoft.com/azure/ai-foundry/how-to/develop/trace-application#enable-tracing-in-your-project\n",
    "\n",
    "## Azure Application Insights リソースへの接続\n",
    "プロジェクトに関連付けられている Azure Application Insights リソースへの接続文字列を取得します。 次の行では、認証に Microsoft Entra ID を使用する必要がある Azure AI Project クライアントを使用します。"
   ]
  },
  {
   "cell_type": "code",
   "execution_count": null,
   "id": "c6f4e686",
   "metadata": {},
   "outputs": [],
   "source": [
    "from azure.ai.projects import AIProjectClient\n",
    "from azure.identity import DefaultAzureCredential\n",
    "\n",
    "project_client = AIProjectClient(\n",
    "    credential=DefaultAzureCredential(),\n",
    "    endpoint=\"https://<YourFoundryService>.services.ai.azure.com/api/projects/xxx\",\n",
    ")\n",
    "\n",
    "connection_string = project_client.telemetry.get_connection_string()\n",
    "\n",
    "# Azure Application Insights にトレースを送信するように OpenTelemetry を構成します。\n",
    "from azure.monitor.opentelemetry import configure_azure_monitor\n",
    "configure_azure_monitor(connection_string=connection_string)"
   ]
  },
  {
   "cell_type": "markdown",
   "id": "0acf69dc",
   "metadata": {},
   "source": [
    "## OpenAI SDK 実行"
   ]
  },
  {
   "cell_type": "code",
   "execution_count": null,
   "id": "d5a111d6",
   "metadata": {},
   "outputs": [],
   "source": [
    "import os\n",
    "\n",
    "# gets the API Key from environment variable AZURE_OPENAI_API_KEY\n",
    "client = AzureOpenAI(\n",
    "    api_version=\"2024-12-01-preview\",\n",
    "    azure_endpoint=os.getenv(\"AZURE_OPENAI_ENDPOINT\"),\n",
    "    api_key=os.getenv(\"AZURE_OPENAI_API_KEY\")\n",
    ")\n",
    "\n",
    "completion = client.chat.completions.create(\n",
    "    model=\"gpt-4.1\",  # e.g. gpt-35-instant\n",
    "    messages=[\n",
    "        {\n",
    "            \"role\": \"user\",\n",
    "            \"content\": \"君の名はなんていうの？\",\n",
    "        },\n",
    "    ],\n",
    ")\n",
    "print(completion.to_json())"
   ]
  },
  {
   "cell_type": "markdown",
   "id": "79e48dd9",
   "metadata": {},
   "source": [
    "# AutoGen のトレース\n",
    "AutoGenには、アプリケーションの実行に関する包括的な記録を収集するためのトレースと観測のサポートが組み込まれています。この機能は、デバッグ、パフォーマンス分析、そしてアプリケーションのフローを理解するのに役立ちます。\n",
    "\n",
    "この機能はOpenTelemetryライブラリを活用しているため、OpenTelemetry と互換性のある任意のバックエンドを使用してトレースを収集および分析できます。"
   ]
  },
  {
   "cell_type": "code",
   "execution_count": null,
   "id": "25e231a2",
   "metadata": {},
   "outputs": [],
   "source": [
    "from autogen_ext.models.openai import OpenAIChatCompletionClient, AzureOpenAIChatCompletionClient"
   ]
  },
  {
   "cell_type": "code",
   "execution_count": null,
   "id": "b168acef",
   "metadata": {},
   "outputs": [],
   "source": [
    "model_client = AzureOpenAIChatCompletionClient(\n",
    "    azure_deployment=\"gpt-4.1-mini\",\n",
    "    model=\"gpt-4.1-mini\",\n",
    "    api_key=os.getenv(\"AZURE_OPENAI_API_KEY\"),\n",
    "    api_version=\"2024-12-01-preview\",\n",
    "    azure_endpoint=os.getenv(\"AZURE_OPENAI_ENDPOINT\"),\n",
    ")"
   ]
  },
  {
   "cell_type": "code",
   "execution_count": null,
   "id": "38458094",
   "metadata": {},
   "outputs": [],
   "source": [
    "from autogen_agentchat.ui import Console\n",
    "from autogen_agentchat.agents import AssistantAgent\n",
    "from autogen_agentchat.teams import RoundRobinGroupChat\n",
    "from autogen_agentchat.conditions import TextMessageTermination  \n",
    "\n",
    "# Create the final reviewer agent\n",
    "writer_agent = AssistantAgent(\n",
    "    \"writer_agent\",\n",
    "    model_client=model_client,\n",
    "    system_message=\"あなたはプロの小説家です。魅力的な文章を完結なタッチで書くことができます。\",\n",
    ")"
   ]
  },
  {
   "cell_type": "code",
   "execution_count": null,
   "id": "9d6a1a9b",
   "metadata": {},
   "outputs": [],
   "source": [
    "stream = writer_agent.run_stream(task=\"SEが異世界に転生して無双する異世界転生系短編小説を書いてください。\")\n",
    "await Console(stream)"
   ]
  },
  {
   "cell_type": "markdown",
   "id": "c8068611",
   "metadata": {},
   "source": [
    "## 独自のスパンを作成\n",
    "複雑なアプリケーションを開発するときに、ビジネス ロジックとモデルを組み合わせたコードのセクションをキャプチャすると便利な場合があります。 OpenTelemetry では、スパンの概念を使用して、関心のあるセクションをキャプチャします。 独自のスパンの生成を開始するには、現在の トレーサー オブジェクトのインスタンスを取得します。"
   ]
  },
  {
   "cell_type": "code",
   "execution_count": null,
   "id": "ab540941",
   "metadata": {},
   "outputs": [],
   "source": [
    "from opentelemetry import trace\n",
    "\n",
    "tracer = trace.get_tracer(__name__)"
   ]
  },
  {
   "cell_type": "code",
   "execution_count": null,
   "id": "b9633362",
   "metadata": {},
   "outputs": [],
   "source": [
    "from typing import List\n",
    "\n",
    "@tracer.start_as_current_span(\"write_and_critic_short_story\")\n",
    "async def write_and_critic_short_story():\n",
    "    current_span = trace.get_current_span()\n",
    "    # Set attributes for the current span\n",
    "    current_span.set_attribute(\"operation.critic_count\", 3)\n",
    "\n",
    "\n",
    "    # Create the final reviewer agent\n",
    "    writer_agent = AssistantAgent(\n",
    "        \"writer_agent\",\n",
    "        model_client=model_client,\n",
    "        system_message=\"あなたはプロの小説家です。魅力的な文章を完結なタッチで書くことができます。\",\n",
    "    )\n",
    "\n",
    "\n",
    "    # Create the final reviewer agent\n",
    "    critic_agent1 = AssistantAgent(\n",
    "        \"critic_agent1\",\n",
    "        model_client=model_client,\n",
    "        system_message=\"作成された文章を批判的な観点から評価し、改善点を提案すること。\",\n",
    "    )\n",
    "\n",
    "    # Create the final reviewer agent\n",
    "    critic_agent2 = AssistantAgent(\n",
    "        \"critic_agent2\",\n",
    "        model_client=model_client,\n",
    "        system_message=\"あなたはリスクアドバイザーです。作成された文章のアイデア被りやSMS等で炎上しないかどうかを評価し、改善点を提案すること。\",\n",
    "    )\n",
    "\n",
    "    # Create the final reviewer agent\n",
    "    critic_agent3 = AssistantAgent(\n",
    "        \"critic_agent3\",\n",
    "        model_client=model_client,\n",
    "        system_message=\"あなたは法学のスペシャリストです。作成された文章を法的観点から評価し、改善点を提案すること。\",\n",
    "    )\n",
    "\n",
    "    # add agents to array\n",
    "    critic_agents: List[AssistantAgent] = [\n",
    "        writer_agent,\n",
    "        critic_agent1,\n",
    "        critic_agent2,\n",
    "        critic_agent3,\n",
    "    ]\n",
    "\n",
    "    termination_condition = TextMessageTermination(\"critic_agent3\") #3人目が発言したら終了\n",
    "    critic_team = RoundRobinGroupChat(critic_agents, termination_condition=termination_condition)\n",
    "            \n",
    "    stream = critic_team.run_stream(task=\"SEが異世界に転生して無双する異世界転生系短編小説を書いてください。\")\n",
    "    await Console(stream)\n",
    "\n",
    "    return"
   ]
  },
  {
   "cell_type": "code",
   "execution_count": null,
   "id": "f33b750b",
   "metadata": {},
   "outputs": [],
   "source": [
    "await write_and_critic_short_story()"
   ]
  }
 ],
 "metadata": {
  "kernelspec": {
   "display_name": "autogen059",
   "language": "python",
   "name": "python3"
  },
  "language_info": {
   "codemirror_mode": {
    "name": "ipython",
    "version": 3
   },
   "file_extension": ".py",
   "mimetype": "text/x-python",
   "name": "python",
   "nbconvert_exporter": "python",
   "pygments_lexer": "ipython3",
   "version": "3.11.11"
  }
 },
 "nbformat": 4,
 "nbformat_minor": 5
}
